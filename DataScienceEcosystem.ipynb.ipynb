{
 "cells": [
  {
   "cell_type": "markdown",
   "id": "d06da5c2-5a39-40ce-8f4c-57335b50592f",
   "metadata": {},
   "source": [
    "# Data Science Tools and Ecosystem"
   ]
  },
  {
   "cell_type": "markdown",
   "id": "f95bd9be-3b25-4968-b8c1-423182da649d",
   "metadata": {},
   "source": [
    "In this notebook, Data Science Tools and Ecosystem are summarized."
   ]
  },
  {
   "cell_type": "markdown",
   "id": "75d594aa-0220-4691-af45-9d9bbb32dd9f",
   "metadata": {},
   "source": [
    "**Objectives:** \n",
    "1. List popular languages for Data Science\n",
    "2. List commonly used libraries for Data Science\n",
    "3. List development environment open source tools for Data Science\n",
    "4. a few examples of evaluating arithmetic expressions in Python"
   ]
  },
  {
   "cell_type": "markdown",
   "id": "29d54609-e53f-4fab-b260-d2d657262c8b",
   "metadata": {
    "tags": []
   },
   "source": [
    "Some of the popular languages that Data Scientists use are:\n",
    "1. Python\n",
    "2. R\n",
    "3. Java\n",
    "4. SQL\n",
    "5. Julia"
   ]
  },
  {
   "cell_type": "markdown",
   "id": "bec5da39-76c6-4054-a4f8-578e9be69ac4",
   "metadata": {
    "tags": []
   },
   "source": [
    "Some of the commonly used libraries used by Data Scientists include:\n",
    "1. Numpy\n",
    "2. Panda\n",
    "3. Matplotlib\n",
    "4. Scikit-Learn\n",
    "5. Keras"
   ]
  },
  {
   "cell_type": "markdown",
   "id": "a8babe3a-067f-48be-a7a5-52a6aa523c50",
   "metadata": {},
   "source": [
    "| Data Science Tools: |\n",
    "| ------------------- |\n",
    "| Anaconda |\n",
    "| Jupyter_Notebook |\n",
    "| VSCode |"
   ]
  },
  {
   "cell_type": "markdown",
   "id": "dc2b4053-bc55-4add-88af-b26ec0e78ebc",
   "metadata": {},
   "source": [
    "### Below are a few examples of evaluating arithmetic expressions in Python"
   ]
  },
  {
   "cell_type": "code",
   "execution_count": 4,
   "id": "8b2d052a-8e0c-44c5-97b3-9e6e09cfbbea",
   "metadata": {
    "tags": []
   },
   "outputs": [
    {
     "data": {
      "text/plain": [
       "17"
      ]
     },
     "execution_count": 4,
     "metadata": {},
     "output_type": "execute_result"
    }
   ],
   "source": [
    "#This a simple arithmetic expression to mutiply then add integers\n",
    "(3*4)+5"
   ]
  },
  {
   "cell_type": "code",
   "execution_count": 5,
   "id": "8f6b2c3d-12b9-490e-949c-5ec20a1c2e56",
   "metadata": {
    "tags": []
   },
   "outputs": [
    {
     "data": {
      "text/plain": [
       "3.3333333333333335"
      ]
     },
     "execution_count": 5,
     "metadata": {},
     "output_type": "execute_result"
    }
   ],
   "source": [
    "#This will convert 200 minutes to hours by diving by 60\n",
    "200/60"
   ]
  },
  {
   "cell_type": "markdown",
   "id": "0f5df755-988d-4b8e-8b62-a92bf53763d9",
   "metadata": {},
   "source": [
    "## Author\n",
    "Jialong Chen"
   ]
  },
  {
   "cell_type": "code",
   "execution_count": null,
   "id": "a59052ba-a8fd-4558-b865-682e4bd027b5",
   "metadata": {},
   "outputs": [],
   "source": []
  }
 ],
 "metadata": {
  "kernelspec": {
   "display_name": "Python",
   "language": "python",
   "name": "conda-env-python-py"
  },
  "language_info": {
   "codemirror_mode": {
    "name": "ipython",
    "version": 3
   },
   "file_extension": ".py",
   "mimetype": "text/x-python",
   "name": "python",
   "nbconvert_exporter": "python",
   "pygments_lexer": "ipython3",
   "version": "3.7.12"
  }
 },
 "nbformat": 4,
 "nbformat_minor": 5
}
